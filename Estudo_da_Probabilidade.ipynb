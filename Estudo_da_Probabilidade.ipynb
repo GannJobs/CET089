{
  "nbformat": 4,
  "nbformat_minor": 0,
  "metadata": {
    "colab": {
      "provenance": [],
      "collapsed_sections": [
        "CzGjtH6eWIY7",
        "UhRbzsZWatWM",
        "v5e8EKCo3rN0",
        "Y2mQj4R1qm8-",
        "h5SRMF5Y3Bza",
        "pevzTVKWFQqm",
        "pioXaryFHrU0"
      ]
    },
    "kernelspec": {
      "name": "python3",
      "display_name": "Python 3"
    },
    "language_info": {
      "name": "python"
    }
  },
  "cells": [
    {
      "cell_type": "markdown",
      "source": [
        "# Análise Combinatória"
      ],
      "metadata": {
        "id": "CzGjtH6eWIY7"
      }
    },
    {
      "cell_type": "code",
      "source": [
        "from itertools import combinations\n",
        "\n",
        "# Definindo o vetor genérico (6, 2)\n",
        "letters_subset = ['a', 'b', 'c']\n",
        "\n",
        "# Gerando todas as combinações de tamanho 2\n",
        "combinations_result = list(combinations(letters_subset, 2))\n",
        "\n",
        "print(combinations_result)\n"
      ],
      "metadata": {
        "id": "F8ED1FZso3X9"
      },
      "execution_count": null,
      "outputs": []
    },
    {
      "cell_type": "code",
      "source": [
        "# Criando um vetor\n",
        "elements = [f\"a{i}\" for i in range(1, 4)] + [f\"b{i}\" for i in range(1, 3)] + [\"c1\"]\n",
        "\n",
        "# Gerando todas as combinações de tamanho 2\n",
        "combinations_result = list(combinations(elements, 2))\n",
        "\n",
        "# Imprimindo a matriz formatada\n",
        "print(\"The matrix of type chr\")\n",
        "for i in range(len(combinations_result[0])):\n",
        "    for j in range(len(combinations_result)):\n",
        "        print(combinations_result[j][i], end='\\t')\n",
        "    print()\n",
        "\n"
      ],
      "metadata": {
        "id": "2T6LB3uVpUbT"
      },
      "execution_count": null,
      "outputs": []
    },
    {
      "cell_type": "code",
      "source": [
        "import math\n",
        "\n",
        "# Verificando se o número de colunas é igual ao coeficiente binomial \"6 escolha 2\" ou seja 15\n",
        "if len(combinations_result) == math.factorial(6) // (math.factorial(2) * math.factorial(6-2)):\n",
        "    print(\"A condição é verdadeira!\")\n",
        "else:\n",
        "    print(\"A condição é falsa.\")\n"
      ],
      "metadata": {
        "id": "VpEnPe_0WaT9"
      },
      "execution_count": null,
      "outputs": []
    },
    {
      "cell_type": "markdown",
      "source": [
        "# Frequênica absoluta e relativa"
      ],
      "metadata": {
        "id": "UhRbzsZWatWM"
      }
    },
    {
      "cell_type": "code",
      "source": [
        "# Considerando uma urna com 15 bolas numeradas de 1 a 15\n",
        "import numpy as np\n",
        "\n",
        "# Fixando a semente para reproduzibilidade\n",
        "np.random.seed(2019)\n",
        "\n",
        "# Gerando uma amostra de 100 números inteiros entre 1 e 15 com reposição\n",
        "evento = np.random.choice(np.arange(1, 16), size=100, replace=True)\n",
        "\n",
        "print(evento)"
      ],
      "metadata": {
        "id": "Jbm3k6q5axEh"
      },
      "execution_count": null,
      "outputs": []
    },
    {
      "cell_type": "code",
      "source": [
        "# Calculando a frequência absoluta do evento \"retirar a bola de número 13\"\n",
        "fi = np.sum(evento == 13)\n",
        "\n",
        "# Calculando a frequência relativa do evento \"retirar a bola de número 13\"\n",
        "fr = fi / 100\n",
        "\n",
        "print(\"Frequência absoluta:\", fi)\n",
        "print(\"Frequência relativa:\", fr)"
      ],
      "metadata": {
        "id": "gilmm3I7a3Qx"
      },
      "execution_count": null,
      "outputs": []
    },
    {
      "cell_type": "markdown",
      "source": [
        "# Probabilidade & Frequênica relativa"
      ],
      "metadata": {
        "id": "v5e8EKCo3rN0"
      }
    },
    {
      "cell_type": "code",
      "source": [
        "import numpy as np\n",
        "\n",
        "# Criando um array de 1 a 10\n",
        "num = np.arange(1, 11)\n",
        "np.random.shuffle(num)\n",
        "\n",
        "# Exibindo o array\n",
        "print(\"Array aleatorio:\", num)"
      ],
      "metadata": {
        "id": "lk-pj42I3zao"
      },
      "execution_count": null,
      "outputs": []
    },
    {
      "cell_type": "code",
      "source": [
        "# Calculando a frequência relativa de saída do número 5\n",
        "fr = np.sum(num == 5) / len(num)\n",
        "\n",
        "print(\"Frequência relativa de 5:\", fr)\n",
        "print(\"% Frequência relativa de 5:\", fr*100,\"%\")"
      ],
      "metadata": {
        "id": "USMy3iuqJ8re"
      },
      "execution_count": null,
      "outputs": []
    },
    {
      "cell_type": "code",
      "source": [
        "# Simulando a retirada de uma urna com 15 bolas numeradas de 1 a 15\n",
        "evento = np.random.choice(np.arange(1, 16), size=100, replace=True)\n",
        "\n",
        "# Inicializando uma lista para armazenar as frequências relativas em porcentagem\n",
        "percent = []\n",
        "\n",
        "# Calculando as frequências relativas para cada número\n",
        "for i in range(1, 16):\n",
        "    percent.append(100 * np.sum(evento == i) / 100)\n",
        "\n",
        "# Exibindo as frequências relativas em porcentagem\n",
        "for i, p in enumerate(percent):\n",
        "    print(f\"Frequência relativa de {i + 1}: {p}%\")"
      ],
      "metadata": {
        "id": "_pncIGzDp9E0"
      },
      "execution_count": null,
      "outputs": []
    },
    {
      "cell_type": "markdown",
      "source": [
        "# Estabilização da frequência relativa com o aumento do número de repetições do experimento"
      ],
      "metadata": {
        "id": "Y2mQj4R1qm8-"
      }
    },
    {
      "cell_type": "code",
      "source": [
        "# Tabela de frequência para lançamento de uma moeda.\n",
        "import numpy as np\n",
        "from collections import Counter\n",
        "\n",
        "# Definindo os dados\n",
        "pop = ['c', 'k']\n",
        "n = 100\n",
        "\n",
        "# Simulando 100 lançamentos da moeda\n",
        "am = np.random.choice(pop, size=n, replace=True)\n",
        "\n",
        "# Criando a tabela de frequência\n",
        "tabela_frequencia = Counter(am)\n",
        "\n",
        "# Exibindo a tabela de frequência\n",
        "for resultado, frequencia in tabela_frequencia.items():\n",
        "    print(f\"{resultado}: {frequencia}\")\n"
      ],
      "metadata": {
        "id": "ZskfBH2lqwMK"
      },
      "execution_count": null,
      "outputs": []
    },
    {
      "cell_type": "code",
      "source": [
        "import numpy as np\n",
        "\n",
        "# Definindo os dados\n",
        "pop = ['c', 'k']\n",
        "n = 100\n",
        "\n",
        "# Simulando 100 lançamentos da moeda\n",
        "am = np.random.choice(pop, size=n, replace=True)\n",
        "\n",
        "# Inicializando variáveis\n",
        "suc = 0\n",
        "fr = np.zeros(n)\n",
        "\n",
        "# Calculando as frequências relativas acumuladas da 'cara'\n",
        "for i in range(n):\n",
        "    if am[i] == 'c':\n",
        "        suc += 1\n",
        "    fr[i] = suc / (i + 1)\n",
        "\n",
        "# Exibindo as frequências relativas acumuladas\n",
        "print(\"Frequência relativa acumulada:\", suc)\n",
        "print(\"Frequências relativas acumuladas:\")\n",
        "print(fr)\n"
      ],
      "metadata": {
        "id": "1QSZwgBwqwRi"
      },
      "execution_count": null,
      "outputs": []
    },
    {
      "cell_type": "code",
      "source": [
        "import matplotlib.pyplot as plt\n",
        "\n",
        "# Criando o gráfico\n",
        "plt.plot(fr, marker='.', color='darkblue', linewidth=2)\n",
        "plt.axhline(y=0.5, color='red', linestyle='--')\n",
        "\n",
        "# Configurando os eixos\n",
        "plt.ylim(0, 1)\n",
        "\n",
        "# Adicionando rótulos\n",
        "plt.xlabel('Lançamento')\n",
        "plt.ylabel('Frequência Relativa Acumulada')\n",
        "\n",
        "# Exibindo o gráfico\n",
        "plt.show()"
      ],
      "metadata": {
        "id": "iUfjaKm1qwaX"
      },
      "execution_count": null,
      "outputs": []
    },
    {
      "cell_type": "code",
      "source": [
        "# função que recebe dois eventos e retorna a cardinalidade da intersecção\n",
        "def intersection_cardinality(a, b):\n",
        "    car = 0\n",
        "    c = len(a)\n",
        "    d = len(b)\n",
        "\n",
        "    for i in range(c):\n",
        "        for j in range(d):\n",
        "            if a[i][0] == b[j][0] and a[i][1] == b[j][1]:\n",
        "                car += 1\n",
        "\n",
        "    return car"
      ],
      "metadata": {
        "id": "9LLFBbtTqwc0"
      },
      "execution_count": null,
      "outputs": []
    },
    {
      "cell_type": "code",
      "source": [
        "# Exemplo de eventos\n",
        "event_a = [[1, 2], [3, 4], [5, 6]]\n",
        "event_b = [[3, 4], [5, 6], [7, 8]]\n",
        "\n",
        "# Chamando a função\n",
        "cardinality = intersection_cardinality(event_a, event_b)\n",
        "\n",
        "# Exibindo o resultado\n",
        "print(\"Cardinalidade da Interseção:\", cardinality)"
      ],
      "metadata": {
        "id": "1PkUy9FBqtod",
        "colab": {
          "base_uri": "https://localhost:8080/"
        },
        "outputId": "a283fc58-0b89-4ac0-f857-ecf72c64801c"
      },
      "execution_count": null,
      "outputs": [
        {
          "output_type": "stream",
          "name": "stdout",
          "text": [
            "Cardinalidade da Interseção: 2\n"
          ]
        }
      ]
    },
    {
      "cell_type": "markdown",
      "source": [
        "# Probabilidade condicional"
      ],
      "metadata": {
        "id": "h5SRMF5Y3Bza"
      }
    },
    {
      "cell_type": "code",
      "source": [
        "# função que recebe dois eventos A e B, e retorna a probabilidade condicional P(A|B)\n",
        "def conditional_probability(a, b):\n",
        "    intersection = intersection_cardinality(a, b)\n",
        "    probability = intersection / (len(b))\n",
        "    return probability"
      ],
      "metadata": {
        "id": "jJkhRD6Xqzdc"
      },
      "execution_count": null,
      "outputs": []
    },
    {
      "cell_type": "code",
      "source": [
        "# Exemplo de eventos A e B\n",
        "event_A = [[1, 2], [3, 4], [5, 6]]\n",
        "event_B = [[3, 4], [5, 6], [7, 8]]\n",
        "\n",
        "# Calculando a probabilidade condicional P(A|B)\n",
        "conditional_prob = conditional_probability(event_A, event_B)\n",
        "\n",
        "# Exibindo o resultado\n",
        "print(\"Probabilidade Condicional P(A|B):\", conditional_prob)"
      ],
      "metadata": {
        "id": "BhGv1kYSq4Cx"
      },
      "execution_count": null,
      "outputs": []
    },
    {
      "cell_type": "code",
      "source": [
        "import numpy as np\n",
        "# (usando apenas funções de baixo nível = 'na unha')\n",
        "# Criando uma matriz S (36 linhas e 2 colunas)\n",
        "S = np.zeros((36, 2))\n",
        "# Criando matrizes PA (3 linhas e 2 colunas) e PB (15 linhas e 2 colunas)\n",
        "PA = np.zeros((3, 2))\n",
        "PB = np.zeros((15, 2))\n",
        "\n",
        "# Inicializando variável k\n",
        "k = 0\n",
        "\n",
        "# Combinando dois dados e preenchendo a matriz S\n",
        "for i in range(1, 7):\n",
        "    for j in range(1, 7):\n",
        "        k += 1\n",
        "        S[k - 1, 0] = i\n",
        "        S[k - 1, 1] = j\n",
        "\n",
        "# Exibindo a matriz\n",
        "print(\"\\nS:\")\n",
        "print(S)"
      ],
      "metadata": {
        "id": "k-tauikiq4LK"
      },
      "execution_count": null,
      "outputs": []
    },
    {
      "cell_type": "code",
      "source": [
        "# Preenchendo a matriz PA\n",
        "# PA = {(x1 , x2 )/ x1 + x2 = 10}\n",
        "PA = []\n",
        "for i in range(1, 7):\n",
        "    for j in range(1, 7):\n",
        "        if i + j == 10:\n",
        "            PA.append([i, j])\n",
        "\n",
        "PA = np.array(PA)\n",
        "print(\"\\nPA:\")\n",
        "print(PA)\n",
        "\n",
        "# Preenchendo a matriz PB\n",
        "# PB = {(x1 , x2 )/ x1 > x2 }\n",
        "PB = []\n",
        "for i in range(1, 7):\n",
        "    for j in range(1, 7):\n",
        "        if i > j:\n",
        "            PB.append([i, j])\n",
        "\n",
        "PB = np.array(PB)\n",
        "print(\"\\nPB:\")\n",
        "print(PB)"
      ],
      "metadata": {
        "id": "oWR5geLbq4Ib"
      },
      "execution_count": null,
      "outputs": []
    },
    {
      "cell_type": "code",
      "source": [
        "# Exemplo de chamada da função com as matrizes PA e PB\n",
        "result_matrix = conditional_probability(PA, PB)\n",
        "\n",
        "# Exibindo a matriz resultante\n",
        "print(\"Probabilidade Condicional P(A|B):\", result_matrix)"
      ],
      "metadata": {
        "id": "9GL3yISH_AX_"
      },
      "execution_count": null,
      "outputs": []
    },
    {
      "cell_type": "markdown",
      "source": [
        "# Independência Estatística"
      ],
      "metadata": {
        "id": "pevzTVKWFQqm"
      }
    },
    {
      "cell_type": "code",
      "source": [
        "# Lote de 10 peças, 4 são defeituosas. 2 peças são retiradas uma após a outra COM\n",
        "# REPOSIÇÃO.\n",
        "# A = {é boa}\n",
        "# B = {é boa}\n",
        "# verificar que A e B são independentes\n",
        "# por P(B) ser igual a P(A/B)\n",
        "import numpy as np\n",
        "\n",
        "# Lote\n",
        "lote = [\"d1\", \"d2\", \"d3\", \"d4\", \"b1\", \"b2\", \"b3\", \"b4\", \"b5\", \"b6\"]\n",
        "\n",
        "# Espaço amostral\n",
        "esp = np.full((100, 2), \"x\", dtype=object)\n",
        "k = 0\n",
        "\n",
        "for i in range(10):\n",
        "    for j in range(10):\n",
        "        esp[k, 0] = lote[i]\n",
        "        esp[k, 1] = lote[j]\n",
        "        k += 1\n",
        "\n",
        "print(\"Matriz Espaço Amostral:\")\n",
        "print(esp)"
      ],
      "metadata": {
        "id": "6lQPoT6LFTBZ"
      },
      "execution_count": null,
      "outputs": []
    },
    {
      "cell_type": "code",
      "source": [
        "# evento A\n",
        "A = np.full((60, 2), \"x\", dtype=object)\n",
        "k = 0\n",
        "\n",
        "for i in range(6):\n",
        "    for j in range(10):\n",
        "        A[k, 0] = lote[4 + i]\n",
        "        A[k, 1] = lote[j]\n",
        "        k += 1\n",
        "\n",
        "print(\"Matriz A:\")\n",
        "print(A)\n"
      ],
      "metadata": {
        "id": "wxcJDlKNG4M-"
      },
      "execution_count": null,
      "outputs": []
    },
    {
      "cell_type": "code",
      "source": [
        "# evento B\n",
        "B = np.full((60, 2), \"x\", dtype=object)\n",
        "k = 0\n",
        "\n",
        "for i in range(10):\n",
        "    for j in range(6):\n",
        "        B[k, 0] = lote[i]\n",
        "        B[k, 1] = lote[4 + j]\n",
        "        k += 1\n",
        "\n",
        "print(\"Matriz B:\")\n",
        "print(B)"
      ],
      "metadata": {
        "id": "6ddiUjumG40n"
      },
      "execution_count": null,
      "outputs": []
    },
    {
      "cell_type": "code",
      "source": [
        "# Calculo de P(A/B)\n",
        "print(conditional_probability(A, B))\n",
        "\n",
        "# Calculo de P(B)\n",
        "print(conditional_probability(B, esp))"
      ],
      "metadata": {
        "id": "2mXk1vvBHGmC"
      },
      "execution_count": null,
      "outputs": []
    },
    {
      "cell_type": "markdown",
      "source": [
        "# Simulação"
      ],
      "metadata": {
        "id": "pioXaryFHrU0"
      }
    },
    {
      "cell_type": "code",
      "source": [
        "import numpy as np\n",
        "import matplotlib.pyplot as plt\n",
        "from scipy.stats import norm\n",
        "\n",
        "# Definindo valores\n",
        "m = 0          # Média (0 >= s <= 10)\n",
        "s = 5          # Desvio padrão (2 >= s <= 10)\n",
        "n = int(1e4)   # Tamanho da amostra\n",
        "st = -4 * s    # Primeira classe do histograma\n",
        "en = 4 * s     # Última classe do histograma\n",
        "\n",
        "# Lista de controle da simulação\n",
        "L = {\n",
        "    's1': list('abc'),\n",
        "    's2': np.arange(1.5, 0, -0.5),\n",
        "    's3': ['rfh', 'd'],\n",
        "    's4': ['Freq. relativa (fr)', 'Densidade (d)'],\n",
        "    's5': ['h=1.5 | fr > d', 'h=1.0 | fr = d', 'h=0.5 | fr < d', 'h=1.5 | fr = d', 'h=1.0 | fr = d', 'h=0.5 | fr = d']\n",
        "}\n",
        "\n",
        "# Configurando o layout\n",
        "fig, axs = plt.subplots(2, 3, figsize=(15, 10))\n",
        "\n",
        "# Iterando sobre as diferentes configurações\n",
        "for i in range(2):\n",
        "    for j in range(3):\n",
        "        # Gerando dados\n",
        "        x = np.random.normal(loc=m, scale=s, size=n)\n",
        "\n",
        "        # Escolhendo o tamanho do bin com base na configuração\n",
        "        bin_size = 1.5  # Usando 1.5 como tamanho padrão\n",
        "        if i == 0:\n",
        "          if L['s5'][3 * i + j] == 'h=1.5 | fr > d':\n",
        "              bin_size = 1.5\n",
        "          elif L['s5'][3 * i + j] == 'h=1.0 | fr = d':\n",
        "              bin_size = 1.0\n",
        "          elif L['s5'][3 * i + j] == 'h=0.5 | fr < d':\n",
        "              bin_size = 0.5\n",
        "        else:\n",
        "          if j == 1:\n",
        "            bin_size = 1.0\n",
        "          elif j == 2:\n",
        "            bin_size = 0.5\n",
        "\n",
        "        bin_size = L['s2'][j]  # Usando o valor específico do intervalo\n",
        "\n",
        "        # Calculando o número de bins com base no tamanho escolhido\n",
        "        num_bins = int((en - st) / bin_size)\n",
        "\n",
        "        # Plotando o histograma ou a densidade\n",
        "        if L['s3'][i] == 'rfh':\n",
        "            y, edges = np.histogram(x, bins=num_bins, density=True)\n",
        "            axs[i, j].plot(edges[:-1], y*bin_size, color='blue', drawstyle='steps', label='Freq. relativa')\n",
        "\n",
        "            # Adicionando curva teórica para a frequência relativa\n",
        "            x_values = np.linspace(st, en, 100)\n",
        "            freq_theoretical = norm.pdf(x_values, loc=m, scale=s)\n",
        "            axs[i, j].plot(x_values, freq_theoretical, color='green', linestyle='--', linewidth=2, label='Teórico (fr)')\n",
        "\n",
        "            axs[i, j].set_ylim(0, 0.15)\n",
        "            axs[i, j].set_ylabel(L['s4'][0])\n",
        "        elif L['s3'][i] == 'd':\n",
        "            y, edges = np.histogram(x, bins=num_bins, density=True)\n",
        "            axs[i, j].plot(edges[:-1], y, color='green', drawstyle='steps', label='Densidade')\n",
        "\n",
        "            # Adicionando curva teórica para a densidade\n",
        "            density_theoretical = norm.pdf(x_values, loc=m, scale=s)\n",
        "            axs[i, j].plot(x_values, density_theoretical, color='red', linestyle='--', linewidth=2, label='Teórico (d)')\n",
        "\n",
        "            axs[i, j].set_ylim(0, 0.15)\n",
        "            axs[i, j].set_ylabel(L['s4'][1])\n",
        "\n",
        "        # Adicionando títulos\n",
        "        axs[i, j].set_title(L['s5'][3 * i + j])\n",
        "        axs[i, j].set_xlabel('')\n",
        "\n",
        "        # Adicionando legenda\n",
        "        axs[i, j].legend()\n",
        "\n",
        "# Ajustando o layout\n",
        "plt.tight_layout()\n",
        "plt.show()\n"
      ],
      "metadata": {
        "id": "P-jj-XSBI9jg"
      },
      "execution_count": null,
      "outputs": []
    }
  ]
}